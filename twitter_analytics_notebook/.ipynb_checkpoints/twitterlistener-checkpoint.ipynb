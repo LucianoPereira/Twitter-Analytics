{
 "cells": [
  {
   "cell_type": "markdown",
   "metadata": {},
   "source": [
    "# Twitter listener generator"
   ]
  },
  {
   "cell_type": "code",
   "execution_count": null,
   "metadata": {},
   "outputs": [],
   "source": [
    "import tweepy\n",
    "import json\n",
    "import datetime"
   ]
  },
  {
   "cell_type": "code",
   "execution_count": null,
   "metadata": {},
   "outputs": [],
   "source": [
    "#Api Authentication Details\n",
    "consumer_key = '5E2oMO7ZHGElss9cdaLY34x7b'\n",
    "consumer_secret = 'fwjNRItWWRZ4ftRfwxBSHCwpGY5rth7cKKiZqY06Rru0KECfxi'\n",
    "access_token = '1031238436064243718-YKGcYZF1yAKAcJTttGNXhAWpHWA4oh'\n",
    "access_token_secret = 'U0u3Lq29f7PpOfO12q3fHX4nPhtlOV9fqXpEqDHlFbOqt'\n"
   ]
  },
  {
   "cell_type": "code",
   "execution_count": null,
   "metadata": {},
   "outputs": [],
   "source": [
    "#StreamListener\n",
    "class MyStreamListener(tweepy.StreamListener):\n",
    "    listener_id = 0\n",
    "    def __init__(self,tweet_count,retweet=True, api = None):\n",
    "        super(MyStreamListener, self).__init__()\n",
    "        MyStreamListener.listener_id += 1\n",
    "        self.listener_id = MyStreamListener.listener_id\n",
    "        self.num_tweets = 0\n",
    "        self.tweet_count = tweet_count\n",
    "        if retweet== False:\n",
    "            self.retweet = False\n",
    "        #Creates/Opens a file to store the tweets\n",
    "        self.file = open('tweetfile' + str(self.listener_id) +'.txt', 'w')\n",
    "        \n",
    "    def on_status(self, status):\n",
    "        print(status)\n",
    "        tweet = status._json\n",
    "        if self.retweet == False:            \n",
    "            if (not tweet['retweeted']) and ('RT @' not in tweet['text']): \n",
    "                #Stores the tweets to a file\n",
    "                self.file.write(json.dumps(tweet) + '\\n')\n",
    "                self.num_tweets += 1\n",
    "\n",
    "        #Control the number of tweets\n",
    "        if self.num_tweets < self.tweet_count:\n",
    "            return True\n",
    "        else:\n",
    "            return False #Retornar false cierra la conexion\n",
    "        self.file.close()\n",
    "\n",
    "    def on_error(self, status_code):\n",
    "        print(status_code)\n",
    "        #Error al exceder el Rate Limit, desconecto el stream\n",
    "        if status_code == 420:\n",
    "            return False"
   ]
  },
  {
   "cell_type": "code",
   "execution_count": null,
   "metadata": {},
   "outputs": [],
   "source": [
    "#Authenticating the Application\n",
    "auth = tweepy.OAuthHandler(consumer_key, consumer_secret)\n",
    "auth.set_access_token(access_token, access_token_secret)"
   ]
  },
  {
   "cell_type": "code",
   "execution_count": null,
   "metadata": {},
   "outputs": [],
   "source": [
    "api = tweepy.API(auth)"
   ]
  },
  {
   "cell_type": "code",
   "execution_count": null,
   "metadata": {},
   "outputs": [],
   "source": [
    "l = MyStreamListener(5,retweet=False)\n",
    "stream = tweepy.Stream(auth, l, tweet_mode='extended')\n",
    "#Topics\n",
    "stream.filter(languages=[\"en\"],track = ['@realDonaldTrump']) \n",
    "#stream.filter(track = ['#fitness'])\n",
    "#OTRAS OPCIONES PARA FILTER"
   ]
  },
  {
   "cell_type": "code",
   "execution_count": null,
   "metadata": {},
   "outputs": [],
   "source": []
  },
  {
   "cell_type": "code",
   "execution_count": null,
   "metadata": {},
   "outputs": [],
   "source": []
  }
 ],
 "metadata": {
  "kernelspec": {
   "display_name": "Python 3",
   "language": "python",
   "name": "python3"
  },
  "language_info": {
   "codemirror_mode": {
    "name": "ipython",
    "version": 3
   },
   "file_extension": ".py",
   "mimetype": "text/x-python",
   "name": "python",
   "nbconvert_exporter": "python",
   "pygments_lexer": "ipython3",
   "version": "3.7.3"
  }
 },
 "nbformat": 4,
 "nbformat_minor": 2
}
